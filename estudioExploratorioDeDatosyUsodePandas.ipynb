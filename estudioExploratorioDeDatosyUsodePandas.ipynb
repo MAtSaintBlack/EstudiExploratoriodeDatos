{
 "cells": [
  {
   "cell_type": "code",
   "execution_count": null,
   "id": "e3590135-b321-4211-989c-435cfa098576",
   "metadata": {},
   "outputs": [],
   "source": [
    "#Index:\n",
    "# Estudio exploraorio de datos + Pandas \n",
    "#Creación del data set - subir los datos\n",
    "#Organizar data set para que se visualice mejor - remplazar nan por 0.0\n",
    "#Moverse en el data set\n",
    "#Limpieza de datos\n",
    "#Filtrado de datos\n",
    "#Rearranging\n",
    "#Transformación de datos\n",
    "#Agrupación de datos - Clasificación de datos\n",
    "#Graficación de datos\n",
    "#Save Data\n",
    "#---------------------------------------------\n",
    "#High Level description\n",
    "#GroupBy aggrement statics (sum, mean, counting)\n",
    "#Work with large amounts of data - setting chunksize"
   ]
  },
  {
   "cell_type": "code",
   "execution_count": null,
   "id": "7e3fb7d7-bb8e-4638-aefb-d30c774d57fe",
   "metadata": {},
   "outputs": [],
   "source": [
    "#Creación del data set - subir los datos\n",
    "\n",
    "import pandas as pd\n",
    "\n",
    "#Para ello el primer paso es analizar cual es el estado en el cual se me estan entregando los datos, puede ser en formato de csv, text o inclusive xlxs, cuantos archivos son y demas\n",
    "\n",
    "#Para abrir un solo archivo csv usamos la funsión:\n",
    "\n",
    "df = pd.read_csv(\"train.csv\")\n",
    "\n",
    "#Vale aclarar que para que funsione debe estar el archivo en la misma carpeta que el script, y el archivo debe estar descomprimido.\n",
    "\n",
    "#Para abrir un solo archivo xlxs usamos la funsión:\n",
    "\n",
    "df = pd.read_excel(\"train.xlsx\")\n",
    "\n",
    "#Para abrir un solo archivo txt tiene un paso adicional a la primera funsión vista y es delimitar:\n",
    "\n",
    "df = pd.read_csv(\"train.txt\", delimiter=\"\\t\")\n",
    "\n",
    "#Ahora en caso de que se deba concatenar uno o mas archivos se debe definir primero la ubicación especifica de los archivos, volverlos variables y usar la siguiente funsión:\n",
    "\n",
    "csv1 = '/Users/usuariomac/Desktop/Sets De Datos/titanic//train.csv'\n",
    "csv2 = '/Users/usuariomac/Desktop/Sets De Datos/titanic//test.csv'\n",
    "\n",
    "df = pd.concat(\n",
    "   map(pd.read_csv, [csv1, csv2]), ignore_index=True)\n",
    "\n",
    "#Se utiliza ignore_index=true para que solo exista un idex no 2."
   ]
  },
  {
   "cell_type": "code",
   "execution_count": null,
   "id": "1d687cb5-4db8-4032-bb8c-17d71443690c",
   "metadata": {},
   "outputs": [],
   "source": [
    "#Organizar data set para que se visualice mejor - remplazar nan por 0.0\n",
    "\n",
    "# para que se visualice mejor el data set se debe colocar la siguiente funsión con el numero especifico de columnas:\n",
    "\n",
    "pd.set_option('display.max_columns', 12)\n",
    "\n",
    "# por ultimo siempre hay informació que se puede corromper y se traspola al df como Nan, para remplazar dicho valor por 0.0 aplicamos la siguiente funsión:\n",
    "\n",
    "df.fillna(0.0)"
   ]
  },
  {
   "cell_type": "code",
   "execution_count": null,
   "id": "46a920c6-be75-4b07-ba85-f33e05b15540",
   "metadata": {},
   "outputs": [],
   "source": [
    "#Moverse en el data set\n",
    "\n",
    "#Antes de poder hacer cualquier tipo de pregunta sobre información de una base de datos es importante saber como visualizar y moverse por ciertas partes del data frame \n",
    "\n",
    "#Además de poder obtener información acerca de los tipos de información que puede tener la base de datos\n",
    "\n",
    "print(df(columns))\n",
    "\n",
    "#esta funsión nos va a dar el \"index\" el encabezado de cada columna\n",
    "\n",
    "df.info()\n",
    "\n",
    "#Esta es una función que no solo nos brinda el index sino que tambien muestra cual es la naturaleza de la información de cada columna (string, entero, float) al igual que dice la cantidad exacta de datos\n",
    "\n",
    "print(df[\"Name\"])\n",
    "\n",
    "#Esta funsión permite imprimir una columna o columnas en especifico (primeros y ultimos 10 de cada una)\n",
    "\n",
    "print(df[\"Name\", \"Survived\", \"PClass\"])\n",
    "\n",
    "#Esto solo mostraria esas 3 columnas.\n",
    "\n",
    "print(df.iloc[2])\n",
    "\n",
    "#En este caso lo que estamos leyendo son filas por tal motivo al imprimir 1 lo que estaria mostrando es toda la info de las columnas de la fila 1\n",
    "\n",
    "print(df.iloc[2:5])\n",
    "\n",
    "#En este caso lo que estamos mostrando la info de las filas 3, 4, 5 y 6\n",
    "\n",
    "print(df.iloc[4,2])\n",
    "\n",
    "#Aquí lo que estamos haciendo en especifico es imprimir una casilla exacta siguiendo la nomenclatura (Row, Column) por ejemplo si en excel quisieramos mostrar B4 aquí sería 4,2\n",
    "\n",
    "\n"
   ]
  },
  {
   "cell_type": "code",
   "execution_count": null,
   "id": "db8d0d73-e0c7-4362-a903-51db2f860ab8",
   "metadata": {},
   "outputs": [],
   "source": [
    "#Limpieza de datos\n"
   ]
  },
  {
   "cell_type": "code",
   "execution_count": null,
   "id": "55a987cf-357e-4a21-8c21-f8789454e272",
   "metadata": {},
   "outputs": [],
   "source": [
    "#Filtrado de datos\n",
    "\n",
    "#Para filtrar datos que contengan datos especificos den una categoria como por ejemplo que se me muestren todas las mujeres de lista se puede usar:\n",
    "\n",
    "df.loc[df[\"Sex\"] == \"female\"]\n",
    "\n",
    "#Para buscar un string especifico he de poner: \n",
    "\n",
    "df[df[\"Name\"].str.contains(\"Jack\")]\n",
    "\n",
    "\n"
   ]
  },
  {
   "cell_type": "code",
   "execution_count": null,
   "id": "5d86116a-8a64-42d9-b72e-dafb60a415e5",
   "metadata": {},
   "outputs": [],
   "source": [
    "#Rearranging /Sorting / describing data\n",
    "\n",
    "#Para orgainzar la información basado en una columna de foram primer asendente y despues desendente se usa:\n",
    "\n",
    "df.sort_values(\"Name\", ascending =True)\n",
    "df.sort_values(\"Name\", ascending =False)\n",
    "\n",
    "#Ahora si quisiera primero organizar por grupos y despues organizar por mayor y menor de otra columna se usa:\n",
    "\n",
    "df.sort_values([\"Pclass\", \"Name\"], ascending =[1, 0])\n",
    "\n",
    "#En este caso agruparia todos los pasajeros por clase y organizari grupos por clase de 1 a 3 y  por nombre en cada clase de Z - A porque entiende el 0 como falso"
   ]
  },
  {
   "cell_type": "code",
   "execution_count": null,
   "id": "b9dca514-ced9-499c-a109-05bfc0ca0bdc",
   "metadata": {},
   "outputs": [],
   "source": [
    "#Transformación de datos\n",
    "\n",
    "#en este caso es dificil encontrar información que podamos sumar y restar en esta lista pero por ejemplo puedo crear una nueva columna que sume las colmnas A y B:\n",
    "\n",
    "df[\"Total\"] = df[\"A\"] + df[\"B\"]\n",
    "\n",
    "#otra forma de esta expresión es: \n",
    "\n",
    "df[\"Total\"] = df.iloc[:, 1:2].sum(axis=1)\n",
    "\n",
    "#Para borrar una columna se debe \"formatear\" el data frame volviendo a nombrarlo:\n",
    "\n",
    "df = df.drop(columns=[\"Total\", \"A\"])\n",
    "\n",
    "#Esto borraria del data frame el total y la columna A dejando solo la B"
   ]
  },
  {
   "cell_type": "code",
   "execution_count": null,
   "id": "8745880b-c4e2-46af-ad04-e0f8aeee8e7f",
   "metadata": {},
   "outputs": [],
   "source": [
    "#Agrupación de datos - Clasificación de datos"
   ]
  },
  {
   "cell_type": "code",
   "execution_count": null,
   "id": "5de18761-90ce-4d43-b044-a5c1ed159c0e",
   "metadata": {},
   "outputs": [],
   "source": [
    "#Graficación de datos"
   ]
  },
  {
   "cell_type": "code",
   "execution_count": null,
   "id": "9f81d371-319f-4320-8c8c-8c3920d3b34a",
   "metadata": {},
   "outputs": [],
   "source": [
    "#Save Data\n",
    "\n",
    "df.to_csv(\"modified.csv\")\n",
    "\n",
    "#Esta funsión creara un nuevo csv con el nombre que le pongamos, ahora si lo quisieramos sin la columna de idex que se crea por defecto simplmente le agregamos: \n",
    "\n",
    "df.to_csv(\"modified.csv\", index=False)\n",
    "\n",
    "#Si quisieramos lo mismo en Excel es:\n",
    "\n",
    "df.to_xlsx(\"modified.xlsx\", index=False)\n",
    "\n",
    "#Si quisieramos lo mismo en Txt es:\n",
    "\n",
    "df.to_csc(\"modified.txt\", index=False, sep=\"\\t\")\n",
    "\n"
   ]
  },
  {
   "cell_type": "code",
   "execution_count": null,
   "id": "136bf9b4-819f-4852-a075-f189cd3c98d8",
   "metadata": {},
   "outputs": [],
   "source": []
  },
  {
   "cell_type": "code",
   "execution_count": null,
   "id": "588cb1d2-a480-4333-b12b-5b95fd90e177",
   "metadata": {},
   "outputs": [],
   "source": []
  },
  {
   "cell_type": "code",
   "execution_count": null,
   "id": "51280a15-9b60-45cc-aca5-ae38124bf5ee",
   "metadata": {},
   "outputs": [],
   "source": []
  },
  {
   "cell_type": "code",
   "execution_count": null,
   "id": "e41bb792-e123-4817-b41f-55ed1f94d79a",
   "metadata": {},
   "outputs": [],
   "source": [
    "#High Level description\n",
    "\n",
    "#En este caso es una funsión muy simple:\n",
    "\n",
    "df.describe()"
   ]
  },
  {
   "cell_type": "code",
   "execution_count": null,
   "id": "8e3e593c-3a5b-48b6-824b-0c6c934f4005",
   "metadata": {},
   "outputs": [],
   "source": [
    "#GroupBy aggrement statics (sum, mean, counting)"
   ]
  },
  {
   "cell_type": "code",
   "execution_count": null,
   "id": "14b4e429-66e0-4895-a336-377b1ee3bf90",
   "metadata": {},
   "outputs": [],
   "source": [
    "#Work with large amounts of data - setting chunksize"
   ]
  },
  {
   "cell_type": "code",
   "execution_count": null,
   "id": "2e8667a7-8924-4d24-a7ad-878075286014",
   "metadata": {},
   "outputs": [],
   "source": []
  }
 ],
 "metadata": {
  "kernelspec": {
   "display_name": "Python 3 (ipykernel)",
   "language": "python",
   "name": "python3"
  },
  "language_info": {
   "codemirror_mode": {
    "name": "ipython",
    "version": 3
   },
   "file_extension": ".py",
   "mimetype": "text/x-python",
   "name": "python",
   "nbconvert_exporter": "python",
   "pygments_lexer": "ipython3",
   "version": "3.9.12"
  }
 },
 "nbformat": 4,
 "nbformat_minor": 5
}
